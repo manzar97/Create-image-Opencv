{
 "cells": [
  {
   "cell_type": "code",
   "execution_count": 1,
   "id": "244769d5",
   "metadata": {},
   "outputs": [],
   "source": [
    "import cv2\n",
    "import numpy"
   ]
  },
  {
   "cell_type": "code",
   "execution_count": 2,
   "id": "92eb3efb",
   "metadata": {},
   "outputs": [],
   "source": [
    "black=numpy.zeros([500,500,3])"
   ]
  },
  {
   "cell_type": "code",
   "execution_count": 3,
   "id": "5365bdee",
   "metadata": {},
   "outputs": [],
   "source": [
    "pic=cv2.circle(black,(200,200),150,[139,0,0],20)"
   ]
  },
  {
   "cell_type": "code",
   "execution_count": 11,
   "id": "ad818b98",
   "metadata": {},
   "outputs": [],
   "source": [
    "pic3=cv2.circle(pic,(200,200),30,[0,250,230],5)"
   ]
  },
  {
   "cell_type": "code",
   "execution_count": null,
   "id": "ff912d78",
   "metadata": {},
   "outputs": [],
   "source": [
    "cv2.imshow('hi',pic3)\n",
    "cv2.waitKey()\n",
    "cv2.destroyAllWindows()"
   ]
  },
  {
   "cell_type": "code",
   "execution_count": null,
   "id": "5a794fcb",
   "metadata": {},
   "outputs": [],
   "source": []
  },
  {
   "cell_type": "code",
   "execution_count": null,
   "id": "db4cf823",
   "metadata": {},
   "outputs": [],
   "source": []
  }
 ],
 "metadata": {
  "kernelspec": {
   "display_name": "Python 3",
   "language": "python",
   "name": "python3"
  },
  "language_info": {
   "codemirror_mode": {
    "name": "ipython",
    "version": 3
   },
   "file_extension": ".py",
   "mimetype": "text/x-python",
   "name": "python",
   "nbconvert_exporter": "python",
   "pygments_lexer": "ipython3",
   "version": "3.8.8"
  }
 },
 "nbformat": 4,
 "nbformat_minor": 5
}
